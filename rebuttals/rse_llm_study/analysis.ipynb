{
 "cells": [
  {
   "cell_type": "code",
   "execution_count": 2,
   "id": "de0dad8f",
   "metadata": {},
   "outputs": [],
   "source": [
    "import numpy as np\n",
    "import scipy.stats as stats\n",
    "import pandas as pd\n",
    "import matplotlib.pyplot as plt\n",
    "\n",
    "\n",
    "\n",
    "\n",
    "\n",
    "\n",
    "\n"
   ]
  },
  {
   "cell_type": "code",
   "execution_count": 4,
   "id": "ab29bb13",
   "metadata": {},
   "outputs": [
    {
     "name": "stdout",
     "output_type": "stream",
     "text": [
      "1\n"
     ]
    }
   ],
   "source": [
    "file1= \"/mount/IFG/data/generated_responses/reddit_comments/re_evals/qwen3-4b/Qwen2.5-7B/ifg_0.5_0.3/comments_rse.json\"\n",
    "file2 = \"/mount/IFG/data/generated_responses/reddit_comments/Qwen2.5-7B/ifg_0.5_0.3/comments.json\"\n",
    "\n",
    "import json\n",
    "\n",
    "with open(file1, \"r\") as f:\n",
    "    data1 = json.load(f)\n",
    "\n",
    "with open(file2, \"r\") as f:\n",
    "    data2 = json.load(f)\n",
    "\n",
    "\n",
    "print(len(data1))"
   ]
  },
  {
   "cell_type": "code",
   "execution_count": 10,
   "id": "8b5790ae",
   "metadata": {},
   "outputs": [
    {
     "name": "stdout",
     "output_type": "stream",
     "text": [
      "Pearson correlation coefficient: 0.068\n",
      "P-value: 5.019e-01\n"
     ]
    },
    {
     "data": {
      "image/png": "[encoded data removed]",
      "text/plain": [
       "<Figure size 640x480 with 1 Axes>"
      ]
     },
     "metadata": {},
     "output_type": "display_data"
    }
   ],
   "source": [
    "plt.scatter(data1['keywords']['entropies'], data2['keywords']['entropies'])\n",
    "\n",
    "# Calculate Pearson correlation coefficient\n",
    "correlation, p_value = stats.pearsonr(data1['keywords']['entropies'], data2['keywords']['entropies'])\n",
    "print(f\"Pearson correlation coefficient: {correlation:.3f}\")\n",
    "print(f\"P-value: {p_value:.3e}\")\n",
    "\n",
    "\n",
    "\n",
    "\n",
    "\n",
    "\n",
    "\n",
    "\n"
   ]
  },
  {
   "cell_type": "code",
   "execution_count": 15,
   "id": "3e4289df",
   "metadata": {},
   "outputs": [
    {
     "data": {
      "text/plain": [
       "(2.1908192591797353, 0.666872773712071)"
      ]
     },
     "execution_count": 15,
     "metadata": {},
     "output_type": "execute_result"
    }
   ],
   "source": [
    "data1['keywords']['mean_entropy'], data2['keywords']['mean_entropy']\n",
    "\n",
    "\n",
    "\n",
    "\n",
    "\n",
    "\n",
    "\n",
    "\n",
    "\n",
    "\n"
   ]
  },
  {
   "cell_type": "code",
   "execution_count": null,
   "id": "848aecec",
   "metadata": {},
   "outputs": [],
   "source": []
  }
 ],
 "metadata": {
  "kernelspec": {
   "display_name": "Python 3",
   "language": "python",
   "name": "python3"
  },
  "language_info": {
   "codemirror_mode": {
    "name": "ipython",
    "version": 3
   },
   "file_extension": ".py",
   "mimetype": "text/x-python",
   "name": "python",
   "nbconvert_exporter": "python",
   "pygments_lexer": "ipython3",
   "version": "3.10.18"
  }
 },
 "nbformat": 4,
 "nbformat_minor": 5
}
