{
 "cells": [
  {
   "cell_type": "code",
   "execution_count": 1,
   "id": "de0dad8f",
   "metadata": {},
   "outputs": [],
   "source": [
    "import numpy as np\n",
    "import scipy.stats as stats\n",
    "import pandas as pd\n",
    "import matplotlib.pyplot as plt\n",
    "\n",
    "\n",
    "\n",
    "\n",
    "\n",
    "\n",
    "\n"
   ]
  },
  {
   "cell_type": "code",
   "execution_count": 2,
   "id": "ab29bb13",
   "metadata": {},
   "outputs": [],
   "source": [
    "\n",
    "\n",
    "# qwen_8b_files = [\n",
    "#     \"/mount/IFG/data/generated_responses/reddit_comments/re_evals/reevals/qwen3-8b-base/Qwen2.5-7B/ifg_0.5_0.3/comments_rse.json\",\n",
    "#     \"/mount/IFG/data/generated_responses/reddit_comments/re_evals/reevals/qwen3-8b-base/Qwen2.5-7B/ifg_0.7_0.5/comments_rse.json\",\n",
    "#     \"/mount/IFG/data/generated_responses/reddit_comments/re_evals/reevals/qwen3-8b-base/Qwen2.5-7B/ifg_1.0_0.7/comments_rse.json\",\n",
    "#     \"/mount/IFG/data/generated_responses/reddit_comments/re_evals/reevals/qwen3-8b-base/Qwen2.5-7B/ifg_1.2_0.7/comments_rse.json\"\n",
    "#     ]\n",
    "\n",
    "qwen_8b_files = [\n",
    "    \"/mount/IFG/data/new_evals/qwen3-8b-base/Qwen2.5-7B/ifg_0.5_0.3/comments_rse.json\",\n",
    "    \"/mount/IFG/data/new_evals/qwen3-8b-base/Qwen2.5-7B/ifg_0.7_0.5/comments_rse.json\",\n",
    "    \"/mount/IFG/data/new_evals/qwen3-8b-base/Qwen2.5-7B/ifg_1.0_0.7/comments_rse.json\",\n",
    "    \"/mount/IFG/data/new_evals/qwen3-8b-base/Qwen2.5-7B/ifg_1.2_0.7/comments_rse.json\"\n",
    "    ]\n",
    "\n",
    "llama_8b_files = [\n",
    "\"/mount/IFG/data/generated_responses/reddit_comments/Qwen2.5-7B/ifg_0.5_0.3/comments.json\",\n",
    "\"/mount/IFG/data/generated_responses/reddit_comments/Qwen2.5-7B/ifg_0.7_0.5/comments.json\",\n",
    "\"/mount/IFG/data/generated_responses/reddit_comments/Qwen2.5-7B/ifg_1.0_0.7/comments.json\",\n",
    "\"/mount/IFG/data/generated_responses/reddit_comments/Qwen2.5-7B/ifg_1.2_0.7/comments.json\"]\n",
    "\n",
    "# gemma_3_12b_files = [\n",
    "#     \"/mount/IFG/data/generated_responses/reddit_comments/re_evals/gemma-3-12b-pt/Qwen2.5-7B/ifg_0.5_0.3/comments_rse.json\",\n",
    "#     \"/mount/IFG/data/generated_responses/reddit_comments/re_evals/gemma-3-12b-pt/Qwen2.5-7B/ifg_0.7_0.5/comments_rse.json\",\n",
    "#     \"/mount/IFG/data/generated_responses/reddit_comments/re_evals/gemma-3-12b-pt/Qwen2.5-7B/ifg_1.0_0.7/comments_rse.json\",\n",
    "#     \"/mount/IFG/data/generated_responses/reddit_comments/re_evals/gemma-3-12b-pt/Qwen2.5-7B/ifg_1.2_0.7/comments_rse.json\"\n",
    "#     ]\n",
    "\n",
    "gemma_3_12b_files = [\n",
    "    \"/mount/IFG/data/new_evals/gemma-3-12b-pt/Qwen2.5-7B/ifg_0.5_0.3/comments_rse.json\",\n",
    "    \"/mount/IFG/data/new_evals/gemma-3-12b-pt/Qwen2.5-7B/ifg_0.7_0.5/comments_rse.json\",\n",
    "    \"/mount/IFG/data/new_evals/gemma-3-12b-pt/Qwen2.5-7B/ifg_1.0_0.7/comments_rse.json\",\n",
    "    \"/mount/IFG/data/new_evals/gemma-3-12b-pt/Qwen2.5-7B/ifg_1.2_0.7/comments_rse.json\"\n",
    "    ]\n",
    "\n",
    "file_paths = {\n",
    "    \"qwen_8b\": qwen_8b_files,\n",
    "    \"llama_8b\": llama_8b_files,\n",
    "    \"gemma_3_12b\": gemma_3_12b_files\n",
    "}\n",
    "\n",
    "import json\n",
    "\n",
    "data = {}\n",
    "\n",
    "for model, files in file_paths.items():\n",
    "    data[model] = []\n",
    "    for file in files:\n",
    "        with open(file, 'r') as f:\n",
    "            data[model].append(json.load(f))\n",
    "\n"
   ]
  },
  {
   "cell_type": "code",
   "execution_count": 3,
   "id": "f790eb85",
   "metadata": {},
   "outputs": [
    {
     "name": "stdout",
     "output_type": "stream",
     "text": [
      "dict_keys(['qwen_8b', 'llama_8b', 'gemma_3_12b'])\n"
     ]
    }
   ],
   "source": [
    "print(data.keys())\n"
   ]
  },
  {
   "cell_type": "code",
   "execution_count": 4,
   "id": "246b7d4f",
   "metadata": {},
   "outputs": [],
   "source": [
    "entropies = {}\n",
    "\n",
    "for model in data.keys():\n",
    "    entropies[model] = []\n",
    "    for temperature_data in data[model]:\n",
    "        entropies[model].extend(\n",
    "            temperature_data['keywords']['entropies']\n",
    "            )\n",
    "\n",
    "\n",
    "\n",
    "\n",
    "\n",
    "\n",
    "\n",
    "\n",
    "\n"
   ]
  },
  {
   "cell_type": "code",
   "execution_count": 5,
   "id": "1e8b33d1",
   "metadata": {},
   "outputs": [
    {
     "name": "stdout",
     "output_type": "stream",
     "text": [
      "qwen_8b qwen_8b\n",
      "qwen_8b llama_8b\n",
      "qwen_8b gemma_3_12b\n",
      "llama_8b qwen_8b\n",
      "llama_8b llama_8b\n",
      "llama_8b gemma_3_12b\n",
      "gemma_3_12b qwen_8b\n",
      "gemma_3_12b llama_8b\n",
      "gemma_3_12b gemma_3_12b\n",
      "\n",
      "qwen_8b_vs_qwen_8b:\n",
      "Correlation: 1.000\n",
      "P-value: 0.000e+00\n",
      "\n",
      "qwen_8b_vs_llama_8b:\n",
      "Correlation: 0.658\n",
      "P-value: 4.886e-51\n",
      "\n",
      "qwen_8b_vs_gemma_3_12b:\n",
      "Correlation: 0.376\n",
      "P-value: 6.799e-15\n",
      "\n",
      "llama_8b_vs_qwen_8b:\n",
      "Correlation: 0.658\n",
      "P-value: 4.886e-51\n",
      "\n",
      "llama_8b_vs_llama_8b:\n",
      "Correlation: 1.000\n",
      "P-value: 0.000e+00\n",
      "\n",
      "llama_8b_vs_gemma_3_12b:\n",
      "Correlation: 0.306\n",
      "P-value: 3.834e-10\n",
      "\n",
      "gemma_3_12b_vs_qwen_8b:\n",
      "Correlation: 0.376\n",
      "P-value: 6.799e-15\n",
      "\n",
      "gemma_3_12b_vs_llama_8b:\n",
      "Correlation: 0.306\n",
      "P-value: 3.834e-10\n",
      "\n",
      "gemma_3_12b_vs_gemma_3_12b:\n",
      "Correlation: 1.000\n",
      "P-value: 0.000e+00\n"
     ]
    }
   ],
   "source": [
    "from scipy import stats\n",
    "import itertools\n",
    "\n",
    "# Calculate correlations between all pairs of models\n",
    "correlations = {}\n",
    "for model1, model2 in itertools.product(entropies.keys(), entropies.keys()):\n",
    "\n",
    "    print(model1, model2)\n",
    "    correlation, p_value = stats.pearsonr(entropies[model1], entropies[model2])\n",
    "    correlations[f\"{model1}_vs_{model2}\"] = {\n",
    "        \"correlation\": correlation,\n",
    "        \"p_value\": p_value\n",
    "    }\n",
    "\n",
    "# Print results\n",
    "for pair, stats_dict in correlations.items():\n",
    "    print(f\"\\n{pair}:\")\n",
    "    print(f\"Correlation: {stats_dict['correlation']:.3f}\")\n",
    "    print(f\"P-value: {stats_dict['p_value']:.3e}\")\n"
   ]
  },
  {
   "cell_type": "code",
   "execution_count": 6,
   "id": "e7cab789",
   "metadata": {},
   "outputs": [
    {
     "name": "stdout",
     "output_type": "stream",
     "text": [
      "| Model | qwen_8b | llama_8b | gemma_3_12b |\n",
      "|---|---|---|---|\n",
      "| qwen_8b | 1.000 | 0.658 | 0.376 |\n",
      "| llama_8b | 0.658 | 1.000 | 0.306 |\n",
      "| gemma_3_12b | 0.376 | 0.306 | 1.000 |\n",
      "\n"
     ]
    },
    {
     "data": {
      "text/markdown": [
       "| Model | qwen_8b | llama_8b | gemma_3_12b |\n",
       "|---|---|---|---|\n",
       "| qwen_8b | 1.000 | 0.658 | 0.376 |\n",
       "| llama_8b | 0.658 | 1.000 | 0.306 |\n",
       "| gemma_3_12b | 0.376 | 0.306 | 1.000 |\n"
      ],
      "text/plain": [
       "<IPython.core.display.Markdown object>"
      ]
     },
     "metadata": {},
     "output_type": "display_data"
    }
   ],
   "source": [
    "# Create markdown table of mean entropies\n",
    "models = list(entropies.keys())\n",
    "table = \"| Model | \" + \" | \".join(models) + \" |\\n\"\n",
    "table += \"|\" + \"---|\" * (len(models) + 1) + \"\\n\"\n",
    "\n",
    "for model1 in models:\n",
    "    row = f\"| {model1} |\"\n",
    "    for model2 in models:\n",
    "        corr = correlations[f\"{model1}_vs_{model2}\"][\"correlation\"]\n",
    "        row += f\" {corr:.3f} |\"\n",
    "    table += row + \"\\n\"\n",
    "\n",
    "print(table)\n",
    "from IPython.display import Markdown\n",
    "display(Markdown(table))\n"
   ]
  },
  {
   "cell_type": "code",
   "execution_count": 11,
   "id": "8b5790ae",
   "metadata": {},
   "outputs": [
    {
     "data": {
      "text/plain": [
       "<matplotlib.collections.PathCollection at 0x7f6ea61f5f60>"
      ]
     },
     "execution_count": 11,
     "metadata": {},
     "output_type": "execute_result"
    },
    {
     "data": {
      "image/png": "[encoded data removed]",
      "text/plain": [
       "<Figure size 640x480 with 1 Axes>"
      ]
     },
     "metadata": {},
     "output_type": "display_data"
    }
   ],
   "source": [
    "plt.scatter(entropies['qwen_8b'], entropies['llama_8b'])\n",
    "\n",
    "\n",
    "\n",
    "\n",
    "\n",
    "\n",
    "\n"
   ]
  },
  {
   "cell_type": "code",
   "execution_count": 8,
   "id": "3e4289df",
   "metadata": {},
   "outputs": [
    {
     "ename": "NameError",
     "evalue": "name 'data1' is not defined",
     "output_type": "error",
     "traceback": [
      "\u001b[0;31m---------------------------------------------------------------------------\u001b[0m",
      "\u001b[0;31mNameError\u001b[0m                                 Traceback (most recent call last)",
      "Cell \u001b[0;32mIn[8], line 1\u001b[0m\n\u001b[0;32m----> 1\u001b[0m \u001b[43mdata1\u001b[49m[\u001b[38;5;124m'\u001b[39m\u001b[38;5;124mkeywords\u001b[39m\u001b[38;5;124m'\u001b[39m][\u001b[38;5;124m'\u001b[39m\u001b[38;5;124mmean_entropy\u001b[39m\u001b[38;5;124m'\u001b[39m], data2[\u001b[38;5;124m'\u001b[39m\u001b[38;5;124mkeywords\u001b[39m\u001b[38;5;124m'\u001b[39m][\u001b[38;5;124m'\u001b[39m\u001b[38;5;124mmean_entropy\u001b[39m\u001b[38;5;124m'\u001b[39m]\n",
      "\u001b[0;31mNameError\u001b[0m: name 'data1' is not defined"
     ]
    }
   ],
   "source": [
    "data1['keywords']['mean_entropy'], data2['keywords']['mean_entropy']\n",
    "\n",
    "\n",
    "\n",
    "\n",
    "\n",
    "\n",
    "\n",
    "\n",
    "\n",
    "\n"
   ]
  },
  {
   "cell_type": "code",
   "execution_count": null,
   "id": "848aecec",
   "metadata": {},
   "outputs": [],
   "source": []
  }
 ],
 "metadata": {
  "kernelspec": {
   "display_name": "Python 3",
   "language": "python",
   "name": "python3"
  },
  "language_info": {
   "codemirror_mode": {
    "name": "ipython",
    "version": 3
   },
   "file_extension": ".py",
   "mimetype": "text/x-python",
   "name": "python",
   "nbconvert_exporter": "python",
   "pygments_lexer": "ipython3",
   "version": "3.10.18"
  }
 },
 "nbformat": 4,
 "nbformat_minor": 5
}
